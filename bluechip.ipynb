{
 "cells": [
  {
   "cell_type": "code",
   "execution_count": 1,
   "id": "3044ed31",
   "metadata": {
    "_cell_guid": "b1076dfc-b9ad-4769-8c92-a6c4dae69d19",
    "_uuid": "8f2839f25d086af736a60e9eeb907d3b93b6e0e5",
    "execution": {
     "iopub.execute_input": "2024-11-09T14:01:08.744304Z",
     "iopub.status.busy": "2024-11-09T14:01:08.742742Z",
     "iopub.status.idle": "2024-11-09T14:01:12.520585Z",
     "shell.execute_reply": "2024-11-09T14:01:12.519200Z"
    },
    "papermill": {
     "duration": 3.79169,
     "end_time": "2024-11-09T14:01:12.523028",
     "exception": false,
     "start_time": "2024-11-09T14:01:08.731338",
     "status": "completed"
    },
    "tags": []
   },
   "outputs": [
    {
     "name": "stdout",
     "output_type": "stream",
     "text": [
      "/kaggle/input/bluechip-summit-credit-worthiness-prediction/Variable_def.xlsx\n",
      "/kaggle/input/bluechip-summit-credit-worthiness-prediction/Sample Submission.csv\n",
      "/kaggle/input/bluechip-summit-credit-worthiness-prediction/Train.csv\n",
      "/kaggle/input/bluechip-summit-credit-worthiness-prediction/Test.csv\n"
     ]
    }
   ],
   "source": [
    "# This Python 3 environment comes with many helpful analytics libraries installed\n",
    "# It is defined by the kaggle/python Docker image: https://github.com/kaggle/docker-python\n",
    "# For example, here's several helpful packages to load\n",
    "\n",
    "import numpy as np # linear algebra\n",
    "import pandas as pd # data processing, CSV file I/O (e.g. pd.read_csv)\n",
    "import seaborn as sns\n",
    "from sklearn.ensemble import RandomForestClassifier\n",
    "from sklearn.model_selection import GridSearchCV\n",
    "from imblearn.over_sampling import RandomOverSampler\n",
    "import matplotlib.pyplot as plt\n",
    "from sklearn.preprocessing import StandardScaler\n",
    "from sklearn.pipeline import make_pipeline\n",
    "# Input data files are available in the read-only \"../input/\" directory\n",
    "# For example, running this (by clicking run or pressing Shift+Enter) will list all files under the input directory\n",
    "\n",
    "import os\n",
    "for dirname, _, filenames in os.walk('/kaggle/input'):\n",
    "    for filename in filenames:\n",
    "        print(os.path.join(dirname, filename))\n",
    "\n",
    "# You can write up to 20GB to the current directory (/kaggle/working/) that gets preserved as output when you create a version using \"Save & Run All\" \n",
    "# You can also write temporary files to /kaggle/temp/, but they won't be saved outside of the current session"
   ]
  },
  {
   "cell_type": "code",
   "execution_count": 2,
   "id": "658e850a",
   "metadata": {
    "execution": {
     "iopub.execute_input": "2024-11-09T14:01:12.539936Z",
     "iopub.status.busy": "2024-11-09T14:01:12.538837Z",
     "iopub.status.idle": "2024-11-09T14:01:12.601574Z",
     "shell.execute_reply": "2024-11-09T14:01:12.600194Z"
    },
    "papermill": {
     "duration": 0.073573,
     "end_time": "2024-11-09T14:01:12.604357",
     "exception": false,
     "start_time": "2024-11-09T14:01:12.530784",
     "status": "completed"
    },
    "tags": []
   },
   "outputs": [],
   "source": [
    "df = pd.read_csv(\"../input/bluechip-summit-credit-worthiness-prediction/Train.csv\").set_index(\"ID\")"
   ]
  },
  {
   "cell_type": "code",
   "execution_count": 3,
   "id": "9950d930",
   "metadata": {
    "execution": {
     "iopub.execute_input": "2024-11-09T14:01:12.620509Z",
     "iopub.status.busy": "2024-11-09T14:01:12.620099Z",
     "iopub.status.idle": "2024-11-09T14:01:12.643691Z",
     "shell.execute_reply": "2024-11-09T14:01:12.642506Z"
    },
    "papermill": {
     "duration": 0.034474,
     "end_time": "2024-11-09T14:01:12.646128",
     "exception": false,
     "start_time": "2024-11-09T14:01:12.611654",
     "status": "completed"
    },
    "tags": []
   },
   "outputs": [
    {
     "data": {
      "text/html": [
       "<div>\n",
       "<style scoped>\n",
       "    .dataframe tbody tr th:only-of-type {\n",
       "        vertical-align: middle;\n",
       "    }\n",
       "\n",
       "    .dataframe tbody tr th {\n",
       "        vertical-align: top;\n",
       "    }\n",
       "\n",
       "    .dataframe thead th {\n",
       "        text-align: right;\n",
       "    }\n",
       "</style>\n",
       "<table border=\"1\" class=\"dataframe\">\n",
       "  <thead>\n",
       "    <tr style=\"text-align: right;\">\n",
       "      <th></th>\n",
       "      <th>Loan_ID</th>\n",
       "      <th>Gender</th>\n",
       "      <th>Married</th>\n",
       "      <th>Dependents</th>\n",
       "      <th>Education</th>\n",
       "      <th>Self_Employed</th>\n",
       "      <th>ApplicantIncome</th>\n",
       "      <th>CoapplicantIncome</th>\n",
       "      <th>LoanAmount</th>\n",
       "      <th>Loan_Amount_Term</th>\n",
       "      <th>Credit_History</th>\n",
       "      <th>Property_Area</th>\n",
       "      <th>Loan_Status</th>\n",
       "      <th>Total_Income</th>\n",
       "    </tr>\n",
       "    <tr>\n",
       "      <th>ID</th>\n",
       "      <th></th>\n",
       "      <th></th>\n",
       "      <th></th>\n",
       "      <th></th>\n",
       "      <th></th>\n",
       "      <th></th>\n",
       "      <th></th>\n",
       "      <th></th>\n",
       "      <th></th>\n",
       "      <th></th>\n",
       "      <th></th>\n",
       "      <th></th>\n",
       "      <th></th>\n",
       "      <th></th>\n",
       "    </tr>\n",
       "  </thead>\n",
       "  <tbody>\n",
       "    <tr>\n",
       "      <th>74768</th>\n",
       "      <td>LP002231</td>\n",
       "      <td>1</td>\n",
       "      <td>1</td>\n",
       "      <td>0</td>\n",
       "      <td>1</td>\n",
       "      <td>0</td>\n",
       "      <td>8328</td>\n",
       "      <td>0.000000</td>\n",
       "      <td>17</td>\n",
       "      <td>363</td>\n",
       "      <td>1</td>\n",
       "      <td>2</td>\n",
       "      <td>1</td>\n",
       "      <td>6000</td>\n",
       "    </tr>\n",
       "    <tr>\n",
       "      <th>79428</th>\n",
       "      <td>LP001448</td>\n",
       "      <td>1</td>\n",
       "      <td>1</td>\n",
       "      <td>0</td>\n",
       "      <td>0</td>\n",
       "      <td>0</td>\n",
       "      <td>150</td>\n",
       "      <td>3857.458782</td>\n",
       "      <td>188</td>\n",
       "      <td>370</td>\n",
       "      <td>1</td>\n",
       "      <td>1</td>\n",
       "      <td>0</td>\n",
       "      <td>6000</td>\n",
       "    </tr>\n",
       "    <tr>\n",
       "      <th>70497</th>\n",
       "      <td>LP002231</td>\n",
       "      <td>0</td>\n",
       "      <td>0</td>\n",
       "      <td>0</td>\n",
       "      <td>0</td>\n",
       "      <td>0</td>\n",
       "      <td>4989</td>\n",
       "      <td>314.472511</td>\n",
       "      <td>17</td>\n",
       "      <td>348</td>\n",
       "      <td>1</td>\n",
       "      <td>0</td>\n",
       "      <td>0</td>\n",
       "      <td>6000</td>\n",
       "    </tr>\n",
       "    <tr>\n",
       "      <th>87480</th>\n",
       "      <td>LP001385</td>\n",
       "      <td>1</td>\n",
       "      <td>1</td>\n",
       "      <td>0</td>\n",
       "      <td>0</td>\n",
       "      <td>0</td>\n",
       "      <td>150</td>\n",
       "      <td>0.000000</td>\n",
       "      <td>232</td>\n",
       "      <td>359</td>\n",
       "      <td>1</td>\n",
       "      <td>1</td>\n",
       "      <td>1</td>\n",
       "      <td>3750</td>\n",
       "    </tr>\n",
       "    <tr>\n",
       "      <th>33964</th>\n",
       "      <td>LP002231</td>\n",
       "      <td>1</td>\n",
       "      <td>1</td>\n",
       "      <td>1</td>\n",
       "      <td>0</td>\n",
       "      <td>0</td>\n",
       "      <td>8059</td>\n",
       "      <td>0.000000</td>\n",
       "      <td>17</td>\n",
       "      <td>372</td>\n",
       "      <td>1</td>\n",
       "      <td>0</td>\n",
       "      <td>1</td>\n",
       "      <td>3750</td>\n",
       "    </tr>\n",
       "  </tbody>\n",
       "</table>\n",
       "</div>"
      ],
      "text/plain": [
       "        Loan_ID  Gender  Married Dependents  Education  Self_Employed  \\\n",
       "ID                                                                      \n",
       "74768  LP002231       1        1          0          1              0   \n",
       "79428  LP001448       1        1          0          0              0   \n",
       "70497  LP002231       0        0          0          0              0   \n",
       "87480  LP001385       1        1          0          0              0   \n",
       "33964  LP002231       1        1          1          0              0   \n",
       "\n",
       "       ApplicantIncome  CoapplicantIncome  LoanAmount  Loan_Amount_Term  \\\n",
       "ID                                                                        \n",
       "74768             8328           0.000000          17               363   \n",
       "79428              150        3857.458782         188               370   \n",
       "70497             4989         314.472511          17               348   \n",
       "87480              150           0.000000         232               359   \n",
       "33964             8059           0.000000          17               372   \n",
       "\n",
       "       Credit_History  Property_Area  Loan_Status  Total_Income  \n",
       "ID                                                               \n",
       "74768               1              2            1          6000  \n",
       "79428               1              1            0          6000  \n",
       "70497               1              0            0          6000  \n",
       "87480               1              1            1          3750  \n",
       "33964               1              0            1          3750  "
      ]
     },
     "execution_count": 3,
     "metadata": {},
     "output_type": "execute_result"
    }
   ],
   "source": [
    "# checking the head of the dataset\n",
    "df.head() "
   ]
  },
  {
   "cell_type": "code",
   "execution_count": 4,
   "id": "68bfa9b1",
   "metadata": {
    "execution": {
     "iopub.execute_input": "2024-11-09T14:01:12.662319Z",
     "iopub.status.busy": "2024-11-09T14:01:12.661884Z",
     "iopub.status.idle": "2024-11-09T14:01:12.669747Z",
     "shell.execute_reply": "2024-11-09T14:01:12.668533Z"
    },
    "papermill": {
     "duration": 0.018472,
     "end_time": "2024-11-09T14:01:12.671932",
     "exception": false,
     "start_time": "2024-11-09T14:01:12.653460",
     "status": "completed"
    },
    "tags": []
   },
   "outputs": [
    {
     "data": {
      "text/plain": [
       "Index(['Loan_ID', 'Gender', 'Married', 'Dependents', 'Education',\n",
       "       'Self_Employed', 'ApplicantIncome', 'CoapplicantIncome', 'LoanAmount',\n",
       "       'Loan_Amount_Term', 'Credit_History', 'Property_Area', 'Loan_Status',\n",
       "       'Total_Income'],\n",
       "      dtype='object')"
      ]
     },
     "execution_count": 4,
     "metadata": {},
     "output_type": "execute_result"
    }
   ],
   "source": [
    "df.columns"
   ]
  },
  {
   "cell_type": "code",
   "execution_count": 5,
   "id": "9251c130",
   "metadata": {
    "execution": {
     "iopub.execute_input": "2024-11-09T14:01:12.688970Z",
     "iopub.status.busy": "2024-11-09T14:01:12.688542Z",
     "iopub.status.idle": "2024-11-09T14:01:12.717389Z",
     "shell.execute_reply": "2024-11-09T14:01:12.715961Z"
    },
    "papermill": {
     "duration": 0.039731,
     "end_time": "2024-11-09T14:01:12.719849",
     "exception": false,
     "start_time": "2024-11-09T14:01:12.680118",
     "status": "completed"
    },
    "tags": []
   },
   "outputs": [
    {
     "name": "stdout",
     "output_type": "stream",
     "text": [
      "<class 'pandas.core.frame.DataFrame'>\n",
      "Index: 5898 entries, 74768 to 84112\n",
      "Data columns (total 14 columns):\n",
      " #   Column             Non-Null Count  Dtype  \n",
      "---  ------             --------------  -----  \n",
      " 0   Loan_ID            5898 non-null   object \n",
      " 1   Gender             5898 non-null   int64  \n",
      " 2   Married            5898 non-null   int64  \n",
      " 3   Dependents         5898 non-null   object \n",
      " 4   Education          5898 non-null   int64  \n",
      " 5   Self_Employed      5898 non-null   int64  \n",
      " 6   ApplicantIncome    5898 non-null   int64  \n",
      " 7   CoapplicantIncome  5898 non-null   float64\n",
      " 8   LoanAmount         5898 non-null   int64  \n",
      " 9   Loan_Amount_Term   5898 non-null   int64  \n",
      " 10  Credit_History     5898 non-null   int64  \n",
      " 11  Property_Area      5898 non-null   int64  \n",
      " 12  Loan_Status        5898 non-null   int64  \n",
      " 13  Total_Income       5898 non-null   int64  \n",
      "dtypes: float64(1), int64(11), object(2)\n",
      "memory usage: 691.2+ KB\n"
     ]
    }
   ],
   "source": [
    "# checking the info of the data\n",
    "df.info()"
   ]
  },
  {
   "cell_type": "code",
   "execution_count": 6,
   "id": "a558c78e",
   "metadata": {
    "execution": {
     "iopub.execute_input": "2024-11-09T14:01:12.737322Z",
     "iopub.status.busy": "2024-11-09T14:01:12.736058Z",
     "iopub.status.idle": "2024-11-09T14:01:12.751688Z",
     "shell.execute_reply": "2024-11-09T14:01:12.750461Z"
    },
    "papermill": {
     "duration": 0.027095,
     "end_time": "2024-11-09T14:01:12.754378",
     "exception": false,
     "start_time": "2024-11-09T14:01:12.727283",
     "status": "completed"
    },
    "tags": []
   },
   "outputs": [
    {
     "data": {
      "text/html": [
       "<div>\n",
       "<style scoped>\n",
       "    .dataframe tbody tr th:only-of-type {\n",
       "        vertical-align: middle;\n",
       "    }\n",
       "\n",
       "    .dataframe tbody tr th {\n",
       "        vertical-align: top;\n",
       "    }\n",
       "\n",
       "    .dataframe thead th {\n",
       "        text-align: right;\n",
       "    }\n",
       "</style>\n",
       "<table border=\"1\" class=\"dataframe\">\n",
       "  <thead>\n",
       "    <tr style=\"text-align: right;\">\n",
       "      <th></th>\n",
       "      <th>Loan_ID</th>\n",
       "      <th>Dependents</th>\n",
       "    </tr>\n",
       "    <tr>\n",
       "      <th>ID</th>\n",
       "      <th></th>\n",
       "      <th></th>\n",
       "    </tr>\n",
       "  </thead>\n",
       "  <tbody>\n",
       "    <tr>\n",
       "      <th>74768</th>\n",
       "      <td>LP002231</td>\n",
       "      <td>0</td>\n",
       "    </tr>\n",
       "    <tr>\n",
       "      <th>79428</th>\n",
       "      <td>LP001448</td>\n",
       "      <td>0</td>\n",
       "    </tr>\n",
       "    <tr>\n",
       "      <th>70497</th>\n",
       "      <td>LP002231</td>\n",
       "      <td>0</td>\n",
       "    </tr>\n",
       "    <tr>\n",
       "      <th>87480</th>\n",
       "      <td>LP001385</td>\n",
       "      <td>0</td>\n",
       "    </tr>\n",
       "    <tr>\n",
       "      <th>33964</th>\n",
       "      <td>LP002231</td>\n",
       "      <td>1</td>\n",
       "    </tr>\n",
       "    <tr>\n",
       "      <th>...</th>\n",
       "      <td>...</td>\n",
       "      <td>...</td>\n",
       "    </tr>\n",
       "    <tr>\n",
       "      <th>65288</th>\n",
       "      <td>LP002560</td>\n",
       "      <td>0</td>\n",
       "    </tr>\n",
       "    <tr>\n",
       "      <th>86963</th>\n",
       "      <td>LP002585</td>\n",
       "      <td>0</td>\n",
       "    </tr>\n",
       "    <tr>\n",
       "      <th>69407</th>\n",
       "      <td>LP002175</td>\n",
       "      <td>2</td>\n",
       "    </tr>\n",
       "    <tr>\n",
       "      <th>82002</th>\n",
       "      <td>LP002560</td>\n",
       "      <td>0</td>\n",
       "    </tr>\n",
       "    <tr>\n",
       "      <th>84112</th>\n",
       "      <td>LP002231</td>\n",
       "      <td>0</td>\n",
       "    </tr>\n",
       "  </tbody>\n",
       "</table>\n",
       "<p>5898 rows × 2 columns</p>\n",
       "</div>"
      ],
      "text/plain": [
       "        Loan_ID Dependents\n",
       "ID                        \n",
       "74768  LP002231          0\n",
       "79428  LP001448          0\n",
       "70497  LP002231          0\n",
       "87480  LP001385          0\n",
       "33964  LP002231          1\n",
       "...         ...        ...\n",
       "65288  LP002560          0\n",
       "86963  LP002585          0\n",
       "69407  LP002175          2\n",
       "82002  LP002560          0\n",
       "84112  LP002231          0\n",
       "\n",
       "[5898 rows x 2 columns]"
      ]
     },
     "execution_count": 6,
     "metadata": {},
     "output_type": "execute_result"
    }
   ],
   "source": [
    "df.select_dtypes(object)"
   ]
  },
  {
   "cell_type": "code",
   "execution_count": 7,
   "id": "9c1c1d50",
   "metadata": {
    "execution": {
     "iopub.execute_input": "2024-11-09T14:01:12.772693Z",
     "iopub.status.busy": "2024-11-09T14:01:12.772250Z",
     "iopub.status.idle": "2024-11-09T14:01:12.787124Z",
     "shell.execute_reply": "2024-11-09T14:01:12.785876Z"
    },
    "papermill": {
     "duration": 0.027298,
     "end_time": "2024-11-09T14:01:12.789603",
     "exception": false,
     "start_time": "2024-11-09T14:01:12.762305",
     "status": "completed"
    },
    "tags": []
   },
   "outputs": [
    {
     "data": {
      "text/plain": [
       "Loan_ID               457\n",
       "Gender                  2\n",
       "Married                 2\n",
       "Dependents              4\n",
       "Education               2\n",
       "Self_Employed           2\n",
       "ApplicantIncome      3708\n",
       "CoapplicantIncome    3121\n",
       "LoanAmount            343\n",
       "Loan_Amount_Term      259\n",
       "Credit_History          2\n",
       "Property_Area           3\n",
       "Loan_Status             2\n",
       "Total_Income           29\n",
       "dtype: int64"
      ]
     },
     "execution_count": 7,
     "metadata": {},
     "output_type": "execute_result"
    }
   ],
   "source": [
    "# checking unique values\n",
    "df.nunique()"
   ]
  },
  {
   "cell_type": "code",
   "execution_count": 8,
   "id": "69a2630e",
   "metadata": {
    "execution": {
     "iopub.execute_input": "2024-11-09T14:01:12.807137Z",
     "iopub.status.busy": "2024-11-09T14:01:12.806704Z",
     "iopub.status.idle": "2024-11-09T14:01:12.814381Z",
     "shell.execute_reply": "2024-11-09T14:01:12.813210Z"
    },
    "papermill": {
     "duration": 0.019401,
     "end_time": "2024-11-09T14:01:12.816804",
     "exception": false,
     "start_time": "2024-11-09T14:01:12.797403",
     "status": "completed"
    },
    "tags": []
   },
   "outputs": [
    {
     "data": {
      "text/plain": [
       "array(['0', '1', '3+', '2'], dtype=object)"
      ]
     },
     "execution_count": 8,
     "metadata": {},
     "output_type": "execute_result"
    }
   ],
   "source": [
    "df[\"Dependents\"].unique()"
   ]
  },
  {
   "cell_type": "code",
   "execution_count": 9,
   "id": "c76c9fe8",
   "metadata": {
    "execution": {
     "iopub.execute_input": "2024-11-09T14:01:12.834303Z",
     "iopub.status.busy": "2024-11-09T14:01:12.833881Z",
     "iopub.status.idle": "2024-11-09T14:01:12.846265Z",
     "shell.execute_reply": "2024-11-09T14:01:12.845186Z"
    },
    "papermill": {
     "duration": 0.02403,
     "end_time": "2024-11-09T14:01:12.848725",
     "exception": false,
     "start_time": "2024-11-09T14:01:12.824695",
     "status": "completed"
    },
    "tags": []
   },
   "outputs": [
    {
     "data": {
      "text/plain": [
       "array([0, 1, 3, 2])"
      ]
     },
     "execution_count": 9,
     "metadata": {},
     "output_type": "execute_result"
    }
   ],
   "source": [
    "# correcting the \"3+\" error and also recasting to \"int\"\n",
    "df[\"Dependents\"] = df[\"Dependents\"].apply(lambda x: \"3\" if x == \"3+\" else x).astype(int)\n",
    "df[\"Dependents\"].unique()"
   ]
  },
  {
   "cell_type": "code",
   "execution_count": 10,
   "id": "0deaa1b3",
   "metadata": {
    "execution": {
     "iopub.execute_input": "2024-11-09T14:01:12.866552Z",
     "iopub.status.busy": "2024-11-09T14:01:12.866131Z",
     "iopub.status.idle": "2024-11-09T14:01:12.874439Z",
     "shell.execute_reply": "2024-11-09T14:01:12.873375Z"
    },
    "papermill": {
     "duration": 0.019913,
     "end_time": "2024-11-09T14:01:12.876676",
     "exception": false,
     "start_time": "2024-11-09T14:01:12.856763",
     "status": "completed"
    },
    "tags": []
   },
   "outputs": [],
   "source": [
    "# picking the numeric parts of the values and recasting to \"int\"\n",
    "df[\"Loan_ID\"] = (df[\"Loan_ID\"].str[2:]).astype(int)"
   ]
  },
  {
   "cell_type": "code",
   "execution_count": 11,
   "id": "a3bc082c",
   "metadata": {
    "execution": {
     "iopub.execute_input": "2024-11-09T14:01:12.894956Z",
     "iopub.status.busy": "2024-11-09T14:01:12.894171Z",
     "iopub.status.idle": "2024-11-09T14:01:13.182917Z",
     "shell.execute_reply": "2024-11-09T14:01:13.181685Z"
    },
    "papermill": {
     "duration": 0.300916,
     "end_time": "2024-11-09T14:01:13.185635",
     "exception": false,
     "start_time": "2024-11-09T14:01:12.884719",
     "status": "completed"
    },
    "tags": []
   },
   "outputs": [
    {
     "data": {
      "image/png": "[encoded data removed]",
      "text/plain": [
       "<Figure size 640x480 with 1 Axes>"
      ]
     },
     "metadata": {},
     "output_type": "display_data"
    }
   ],
   "source": [
    "# studying the distribution of the ApplicantIncome feature with respect to Loan_Status\n",
    "#It has outliers\n",
    "sns.boxplot(x=\"Loan_Status\",y=\"ApplicantIncome\", data=df);"
   ]
  },
  {
   "cell_type": "code",
   "execution_count": 12,
   "id": "fbdc7e54",
   "metadata": {
    "execution": {
     "iopub.execute_input": "2024-11-09T14:01:13.204707Z",
     "iopub.status.busy": "2024-11-09T14:01:13.204286Z",
     "iopub.status.idle": "2024-11-09T14:01:13.215729Z",
     "shell.execute_reply": "2024-11-09T14:01:13.214582Z"
    },
    "papermill": {
     "duration": 0.023818,
     "end_time": "2024-11-09T14:01:13.218316",
     "exception": false,
     "start_time": "2024-11-09T14:01:13.194498",
     "status": "completed"
    },
    "tags": []
   },
   "outputs": [],
   "source": [
    "# Removing outliers\n",
    "lower, upper = df[\"ApplicantIncome\"].quantile([0.1, 0.9])\n",
    "mask = df[\"ApplicantIncome\"].between(lower, upper)\n",
    "df_mask = df[mask]"
   ]
  },
  {
   "cell_type": "code",
   "execution_count": 13,
   "id": "b1bc11b1",
   "metadata": {
    "execution": {
     "iopub.execute_input": "2024-11-09T14:01:13.238092Z",
     "iopub.status.busy": "2024-11-09T14:01:13.237630Z",
     "iopub.status.idle": "2024-11-09T14:01:13.476620Z",
     "shell.execute_reply": "2024-11-09T14:01:13.475487Z"
    },
    "papermill": {
     "duration": 0.252025,
     "end_time": "2024-11-09T14:01:13.478906",
     "exception": false,
     "start_time": "2024-11-09T14:01:13.226881",
     "status": "completed"
    },
    "tags": []
   },
   "outputs": [
    {
     "data": {
      "image/png": "[encoded data removed]",
      "text/plain": [
       "<Figure size 640x480 with 1 Axes>"
      ]
     },
     "metadata": {},
     "output_type": "display_data"
    }
   ],
   "source": [
    "# outliers have been removed\n",
    "sns.boxplot(x=\"Loan_Status\",y=\"ApplicantIncome\", data=df_mask);"
   ]
  },
  {
   "cell_type": "code",
   "execution_count": 14,
   "id": "20d12c53",
   "metadata": {
    "execution": {
     "iopub.execute_input": "2024-11-09T14:01:13.498335Z",
     "iopub.status.busy": "2024-11-09T14:01:13.497899Z",
     "iopub.status.idle": "2024-11-09T14:01:13.791469Z",
     "shell.execute_reply": "2024-11-09T14:01:13.790324Z"
    },
    "papermill": {
     "duration": 0.306318,
     "end_time": "2024-11-09T14:01:13.794153",
     "exception": false,
     "start_time": "2024-11-09T14:01:13.487835",
     "status": "completed"
    },
    "tags": []
   },
   "outputs": [
    {
     "data": {
      "image/png": "[encoded data removed]",
      "text/plain": [
       "<Figure size 640x480 with 1 Axes>"
      ]
     },
     "metadata": {},
     "output_type": "display_data"
    }
   ],
   "source": [
    "# checking the class balance\n",
    "df[\"Loan_Status\"].value_counts(normalize=True).plot(kind=\"bar\")\n",
    "plt.ylabel(\"Frequency\")\n",
    "plt.title(\"Class Balance\");"
   ]
  },
  {
   "cell_type": "code",
   "execution_count": 15,
   "id": "27e17baa",
   "metadata": {
    "execution": {
     "iopub.execute_input": "2024-11-09T14:01:13.815210Z",
     "iopub.status.busy": "2024-11-09T14:01:13.814217Z",
     "iopub.status.idle": "2024-11-09T14:01:13.821483Z",
     "shell.execute_reply": "2024-11-09T14:01:13.820359Z"
    },
    "papermill": {
     "duration": 0.020325,
     "end_time": "2024-11-09T14:01:13.823852",
     "exception": false,
     "start_time": "2024-11-09T14:01:13.803527",
     "status": "completed"
    },
    "tags": []
   },
   "outputs": [],
   "source": [
    "# Separating into feature matrix and target vector\n",
    "X_train = df_mask.drop(columns=\"Loan_Status\")\n",
    "y_train = df_mask[\"Loan_Status\"]"
   ]
  },
  {
   "cell_type": "code",
   "execution_count": 16,
   "id": "c8c77b6b",
   "metadata": {
    "execution": {
     "iopub.execute_input": "2024-11-09T14:01:13.844048Z",
     "iopub.status.busy": "2024-11-09T14:01:13.843629Z",
     "iopub.status.idle": "2024-11-09T14:01:13.860011Z",
     "shell.execute_reply": "2024-11-09T14:01:13.859069Z"
    },
    "papermill": {
     "duration": 0.029414,
     "end_time": "2024-11-09T14:01:13.862595",
     "exception": false,
     "start_time": "2024-11-09T14:01:13.833181",
     "status": "completed"
    },
    "tags": []
   },
   "outputs": [],
   "source": [
    "# Oversampling the data because of class imbalance\n",
    "oversample = RandomOverSampler(random_state=42)\n",
    "X_train_over, y_train_over = oversample.fit_resample(X_train, y_train)"
   ]
  },
  {
   "cell_type": "code",
   "execution_count": 17,
   "id": "2215b4fb",
   "metadata": {
    "execution": {
     "iopub.execute_input": "2024-11-09T14:01:13.882232Z",
     "iopub.status.busy": "2024-11-09T14:01:13.881771Z",
     "iopub.status.idle": "2024-11-09T14:01:13.887205Z",
     "shell.execute_reply": "2024-11-09T14:01:13.886033Z"
    },
    "papermill": {
     "duration": 0.01789,
     "end_time": "2024-11-09T14:01:13.889492",
     "exception": false,
     "start_time": "2024-11-09T14:01:13.871602",
     "status": "completed"
    },
    "tags": []
   },
   "outputs": [],
   "source": [
    "# creating a pipeline instance\n",
    "clf = make_pipeline(\n",
    "    StandardScaler(), # scaling the data\n",
    "    RandomForestClassifier(random_state=42) # making use of of the random forest classifier\n",
    ")"
   ]
  },
  {
   "cell_type": "code",
   "execution_count": 18,
   "id": "faf06f0f",
   "metadata": {
    "execution": {
     "iopub.execute_input": "2024-11-09T14:01:13.909401Z",
     "iopub.status.busy": "2024-11-09T14:01:13.908941Z",
     "iopub.status.idle": "2024-11-09T14:01:13.914314Z",
     "shell.execute_reply": "2024-11-09T14:01:13.913162Z"
    },
    "papermill": {
     "duration": 0.017986,
     "end_time": "2024-11-09T14:01:13.916657",
     "exception": false,
     "start_time": "2024-11-09T14:01:13.898671",
     "status": "completed"
    },
    "tags": []
   },
   "outputs": [],
   "source": [
    "# creating a dictionary of parameters for grid search\n",
    "params = {\n",
    "\n",
    "    \"randomforestclassifier__n_estimators\":range(20, 100, 15),\n",
    "    \"randomforestclassifier__max_depth\":range(5, 50, 10),\n",
    "}"
   ]
  },
  {
   "cell_type": "code",
   "execution_count": 19,
   "id": "c25760d2",
   "metadata": {
    "execution": {
     "iopub.execute_input": "2024-11-09T14:01:13.936612Z",
     "iopub.status.busy": "2024-11-09T14:01:13.936183Z",
     "iopub.status.idle": "2024-11-09T14:01:13.941724Z",
     "shell.execute_reply": "2024-11-09T14:01:13.940502Z"
    },
    "papermill": {
     "duration": 0.018405,
     "end_time": "2024-11-09T14:01:13.944127",
     "exception": false,
     "start_time": "2024-11-09T14:01:13.925722",
     "status": "completed"
    },
    "tags": []
   },
   "outputs": [],
   "source": [
    "# creating a grid search model\n",
    "model = GridSearchCV(\n",
    "\n",
    "    clf,\n",
    "    param_grid=params,\n",
    "    cv=5,\n",
    "    n_jobs=-1,\n",
    "    verbose=1\n",
    "    \n",
    ")"
   ]
  },
  {
   "cell_type": "code",
   "execution_count": 20,
   "id": "ca4baab7",
   "metadata": {
    "execution": {
     "iopub.execute_input": "2024-11-09T14:01:13.964261Z",
     "iopub.status.busy": "2024-11-09T14:01:13.963547Z",
     "iopub.status.idle": "2024-11-09T14:01:49.993129Z",
     "shell.execute_reply": "2024-11-09T14:01:49.991795Z"
    },
    "papermill": {
     "duration": 36.051235,
     "end_time": "2024-11-09T14:01:50.004434",
     "exception": false,
     "start_time": "2024-11-09T14:01:13.953199",
     "status": "completed"
    },
    "tags": []
   },
   "outputs": [
    {
     "name": "stdout",
     "output_type": "stream",
     "text": [
      "Fitting 5 folds for each of 30 candidates, totalling 150 fits\n"
     ]
    },
    {
     "data": {
      "text/html": [
       "<style>#sk-container-id-1 {color: black;background-color: white;}#sk-container-id-1 pre{padding: 0;}#sk-container-id-1 div.sk-toggleable {background-color: white;}#sk-container-id-1 label.sk-toggleable__label {cursor: pointer;display: block;width: 100%;margin-bottom: 0;padding: 0.3em;box-sizing: border-box;text-align: center;}#sk-container-id-1 label.sk-toggleable__label-arrow:before {content: \"▸\";float: left;margin-right: 0.25em;color: #696969;}#sk-container-id-1 label.sk-toggleable__label-arrow:hover:before {color: black;}#sk-container-id-1 div.sk-estimator:hover label.sk-toggleable__label-arrow:before {color: black;}#sk-container-id-1 div.sk-toggleable__content {max-height: 0;max-width: 0;overflow: hidden;text-align: left;background-color: #f0f8ff;}#sk-container-id-1 div.sk-toggleable__content pre {margin: 0.2em;color: black;border-radius: 0.25em;background-color: #f0f8ff;}#sk-container-id-1 input.sk-toggleable__control:checked~div.sk-toggleable__content {max-height: 200px;max-width: 100%;overflow: auto;}#sk-container-id-1 input.sk-toggleable__control:checked~label.sk-toggleable__label-arrow:before {content: \"▾\";}#sk-container-id-1 div.sk-estimator input.sk-toggleable__control:checked~label.sk-toggleable__label {background-color: #d4ebff;}#sk-container-id-1 div.sk-label input.sk-toggleable__control:checked~label.sk-toggleable__label {background-color: #d4ebff;}#sk-container-id-1 input.sk-hidden--visually {border: 0;clip: rect(1px 1px 1px 1px);clip: rect(1px, 1px, 1px, 1px);height: 1px;margin: -1px;overflow: hidden;padding: 0;position: absolute;width: 1px;}#sk-container-id-1 div.sk-estimator {font-family: monospace;background-color: #f0f8ff;border: 1px dotted black;border-radius: 0.25em;box-sizing: border-box;margin-bottom: 0.5em;}#sk-container-id-1 div.sk-estimator:hover {background-color: #d4ebff;}#sk-container-id-1 div.sk-parallel-item::after {content: \"\";width: 100%;border-bottom: 1px solid gray;flex-grow: 1;}#sk-container-id-1 div.sk-label:hover label.sk-toggleable__label {background-color: #d4ebff;}#sk-container-id-1 div.sk-serial::before {content: \"\";position: absolute;border-left: 1px solid gray;box-sizing: border-box;top: 0;bottom: 0;left: 50%;z-index: 0;}#sk-container-id-1 div.sk-serial {display: flex;flex-direction: column;align-items: center;background-color: white;padding-right: 0.2em;padding-left: 0.2em;position: relative;}#sk-container-id-1 div.sk-item {position: relative;z-index: 1;}#sk-container-id-1 div.sk-parallel {display: flex;align-items: stretch;justify-content: center;background-color: white;position: relative;}#sk-container-id-1 div.sk-item::before, #sk-container-id-1 div.sk-parallel-item::before {content: \"\";position: absolute;border-left: 1px solid gray;box-sizing: border-box;top: 0;bottom: 0;left: 50%;z-index: -1;}#sk-container-id-1 div.sk-parallel-item {display: flex;flex-direction: column;z-index: 1;position: relative;background-color: white;}#sk-container-id-1 div.sk-parallel-item:first-child::after {align-self: flex-end;width: 50%;}#sk-container-id-1 div.sk-parallel-item:last-child::after {align-self: flex-start;width: 50%;}#sk-container-id-1 div.sk-parallel-item:only-child::after {width: 0;}#sk-container-id-1 div.sk-dashed-wrapped {border: 1px dashed gray;margin: 0 0.4em 0.5em 0.4em;box-sizing: border-box;padding-bottom: 0.4em;background-color: white;}#sk-container-id-1 div.sk-label label {font-family: monospace;font-weight: bold;display: inline-block;line-height: 1.2em;}#sk-container-id-1 div.sk-label-container {text-align: center;}#sk-container-id-1 div.sk-container {/* jupyter's `normalize.less` sets `[hidden] { display: none; }` but bootstrap.min.css set `[hidden] { display: none !important; }` so we also need the `!important` here to be able to override the default hidden behavior on the sphinx rendered scikit-learn.org. See: https://github.com/scikit-learn/scikit-learn/issues/21755 */display: inline-block !important;position: relative;}#sk-container-id-1 div.sk-text-repr-fallback {display: none;}</style><div id=\"sk-container-id-1\" class=\"sk-top-container\"><div class=\"sk-text-repr-fallback\"><pre>GridSearchCV(cv=5,\n",
       "             estimator=Pipeline(steps=[(&#x27;standardscaler&#x27;, StandardScaler()),\n",
       "                                       (&#x27;randomforestclassifier&#x27;,\n",
       "                                        RandomForestClassifier(random_state=42))]),\n",
       "             n_jobs=-1,\n",
       "             param_grid={&#x27;randomforestclassifier__max_depth&#x27;: range(5, 50, 10),\n",
       "                         &#x27;randomforestclassifier__n_estimators&#x27;: range(20, 100, 15)},\n",
       "             verbose=1)</pre><b>In a Jupyter environment, please rerun this cell to show the HTML representation or trust the notebook. <br />On GitHub, the HTML representation is unable to render, please try loading this page with nbviewer.org.</b></div><div class=\"sk-container\" hidden><div class=\"sk-item sk-dashed-wrapped\"><div class=\"sk-label-container\"><div class=\"sk-label sk-toggleable\"><input class=\"sk-toggleable__control sk-hidden--visually\" id=\"sk-estimator-id-1\" type=\"checkbox\" ><label for=\"sk-estimator-id-1\" class=\"sk-toggleable__label sk-toggleable__label-arrow\">GridSearchCV</label><div class=\"sk-toggleable__content\"><pre>GridSearchCV(cv=5,\n",
       "             estimator=Pipeline(steps=[(&#x27;standardscaler&#x27;, StandardScaler()),\n",
       "                                       (&#x27;randomforestclassifier&#x27;,\n",
       "                                        RandomForestClassifier(random_state=42))]),\n",
       "             n_jobs=-1,\n",
       "             param_grid={&#x27;randomforestclassifier__max_depth&#x27;: range(5, 50, 10),\n",
       "                         &#x27;randomforestclassifier__n_estimators&#x27;: range(20, 100, 15)},\n",
       "             verbose=1)</pre></div></div></div><div class=\"sk-parallel\"><div class=\"sk-parallel-item\"><div class=\"sk-item\"><div class=\"sk-label-container\"><div class=\"sk-label sk-toggleable\"><input class=\"sk-toggleable__control sk-hidden--visually\" id=\"sk-estimator-id-2\" type=\"checkbox\" ><label for=\"sk-estimator-id-2\" class=\"sk-toggleable__label sk-toggleable__label-arrow\">estimator: Pipeline</label><div class=\"sk-toggleable__content\"><pre>Pipeline(steps=[(&#x27;standardscaler&#x27;, StandardScaler()),\n",
       "                (&#x27;randomforestclassifier&#x27;,\n",
       "                 RandomForestClassifier(random_state=42))])</pre></div></div></div><div class=\"sk-serial\"><div class=\"sk-item\"><div class=\"sk-serial\"><div class=\"sk-item\"><div class=\"sk-estimator sk-toggleable\"><input class=\"sk-toggleable__control sk-hidden--visually\" id=\"sk-estimator-id-3\" type=\"checkbox\" ><label for=\"sk-estimator-id-3\" class=\"sk-toggleable__label sk-toggleable__label-arrow\">StandardScaler</label><div class=\"sk-toggleable__content\"><pre>StandardScaler()</pre></div></div></div><div class=\"sk-item\"><div class=\"sk-estimator sk-toggleable\"><input class=\"sk-toggleable__control sk-hidden--visually\" id=\"sk-estimator-id-4\" type=\"checkbox\" ><label for=\"sk-estimator-id-4\" class=\"sk-toggleable__label sk-toggleable__label-arrow\">RandomForestClassifier</label><div class=\"sk-toggleable__content\"><pre>RandomForestClassifier(random_state=42)</pre></div></div></div></div></div></div></div></div></div></div></div></div>"
      ],
      "text/plain": [
       "GridSearchCV(cv=5,\n",
       "             estimator=Pipeline(steps=[('standardscaler', StandardScaler()),\n",
       "                                       ('randomforestclassifier',\n",
       "                                        RandomForestClassifier(random_state=42))]),\n",
       "             n_jobs=-1,\n",
       "             param_grid={'randomforestclassifier__max_depth': range(5, 50, 10),\n",
       "                         'randomforestclassifier__n_estimators': range(20, 100, 15)},\n",
       "             verbose=1)"
      ]
     },
     "execution_count": 20,
     "metadata": {},
     "output_type": "execute_result"
    }
   ],
   "source": [
    "model.fit(X_train_over, y_train_over)"
   ]
  },
  {
   "cell_type": "code",
   "execution_count": 21,
   "id": "a8dfbb9e",
   "metadata": {
    "execution": {
     "iopub.execute_input": "2024-11-09T14:01:50.027334Z",
     "iopub.status.busy": "2024-11-09T14:01:50.025928Z",
     "iopub.status.idle": "2024-11-09T14:01:50.034711Z",
     "shell.execute_reply": "2024-11-09T14:01:50.033673Z"
    },
    "papermill": {
     "duration": 0.022311,
     "end_time": "2024-11-09T14:01:50.036930",
     "exception": false,
     "start_time": "2024-11-09T14:01:50.014619",
     "status": "completed"
    },
    "tags": []
   },
   "outputs": [
    {
     "data": {
      "text/plain": [
       "0.9813436023624564"
      ]
     },
     "execution_count": 21,
     "metadata": {},
     "output_type": "execute_result"
    }
   ],
   "source": [
    "model.best_score_"
   ]
  },
  {
   "cell_type": "code",
   "execution_count": 22,
   "id": "c99a3cb3",
   "metadata": {
    "execution": {
     "iopub.execute_input": "2024-11-09T14:01:50.058221Z",
     "iopub.status.busy": "2024-11-09T14:01:50.057665Z",
     "iopub.status.idle": "2024-11-09T14:01:50.063152Z",
     "shell.execute_reply": "2024-11-09T14:01:50.061881Z"
    },
    "papermill": {
     "duration": 0.018797,
     "end_time": "2024-11-09T14:01:50.065508",
     "exception": false,
     "start_time": "2024-11-09T14:01:50.046711",
     "status": "completed"
    },
    "tags": []
   },
   "outputs": [],
   "source": [
    "best_model = model.best_estimator_"
   ]
  },
  {
   "cell_type": "code",
   "execution_count": 23,
   "id": "9de60e5c",
   "metadata": {
    "execution": {
     "iopub.execute_input": "2024-11-09T14:01:50.087049Z",
     "iopub.status.busy": "2024-11-09T14:01:50.086639Z",
     "iopub.status.idle": "2024-11-09T14:01:50.093228Z",
     "shell.execute_reply": "2024-11-09T14:01:50.092099Z"
    },
    "papermill": {
     "duration": 0.020375,
     "end_time": "2024-11-09T14:01:50.095547",
     "exception": false,
     "start_time": "2024-11-09T14:01:50.075172",
     "status": "completed"
    },
    "tags": []
   },
   "outputs": [],
   "source": [
    "# creating a function to prepare my test data\n",
    "def wrangle(filepath):\n",
    "    df = pd.read_csv(filepath).set_index(\"ID\")\n",
    "    df[\"Dependents\"] = df[\"Dependents\"].apply(lambda x: \"3\" if x == \"3+\" else x).astype(int)\n",
    "    df[\"Loan_ID\"] = (df[\"Loan_ID\"].str[2:]).astype(int)\n",
    "\n",
    "    return df"
   ]
  },
  {
   "cell_type": "code",
   "execution_count": 24,
   "id": "874ad23a",
   "metadata": {
    "execution": {
     "iopub.execute_input": "2024-11-09T14:01:50.116605Z",
     "iopub.status.busy": "2024-11-09T14:01:50.116140Z",
     "iopub.status.idle": "2024-11-09T14:01:50.145489Z",
     "shell.execute_reply": "2024-11-09T14:01:50.144189Z"
    },
    "papermill": {
     "duration": 0.043016,
     "end_time": "2024-11-09T14:01:50.148300",
     "exception": false,
     "start_time": "2024-11-09T14:01:50.105284",
     "status": "completed"
    },
    "tags": []
   },
   "outputs": [],
   "source": [
    "X_test = wrangle(\"../input/bluechip-summit-credit-worthiness-prediction/Test.csv\")"
   ]
  },
  {
   "cell_type": "code",
   "execution_count": 25,
   "id": "356ad48c",
   "metadata": {
    "execution": {
     "iopub.execute_input": "2024-11-09T14:01:50.170020Z",
     "iopub.status.busy": "2024-11-09T14:01:50.169113Z",
     "iopub.status.idle": "2024-11-09T14:01:50.185099Z",
     "shell.execute_reply": "2024-11-09T14:01:50.183684Z"
    },
    "papermill": {
     "duration": 0.029277,
     "end_time": "2024-11-09T14:01:50.187366",
     "exception": false,
     "start_time": "2024-11-09T14:01:50.158089",
     "status": "completed"
    },
    "tags": []
   },
   "outputs": [
    {
     "data": {
      "text/html": [
       "<div>\n",
       "<style scoped>\n",
       "    .dataframe tbody tr th:only-of-type {\n",
       "        vertical-align: middle;\n",
       "    }\n",
       "\n",
       "    .dataframe tbody tr th {\n",
       "        vertical-align: top;\n",
       "    }\n",
       "\n",
       "    .dataframe thead th {\n",
       "        text-align: right;\n",
       "    }\n",
       "</style>\n",
       "<table border=\"1\" class=\"dataframe\">\n",
       "  <thead>\n",
       "    <tr style=\"text-align: right;\">\n",
       "      <th></th>\n",
       "      <th>Loan_ID</th>\n",
       "      <th>Gender</th>\n",
       "      <th>Married</th>\n",
       "      <th>Dependents</th>\n",
       "      <th>Education</th>\n",
       "      <th>Self_Employed</th>\n",
       "      <th>ApplicantIncome</th>\n",
       "      <th>CoapplicantIncome</th>\n",
       "      <th>LoanAmount</th>\n",
       "      <th>Loan_Amount_Term</th>\n",
       "      <th>Credit_History</th>\n",
       "      <th>Property_Area</th>\n",
       "      <th>Total_Income</th>\n",
       "    </tr>\n",
       "    <tr>\n",
       "      <th>ID</th>\n",
       "      <th></th>\n",
       "      <th></th>\n",
       "      <th></th>\n",
       "      <th></th>\n",
       "      <th></th>\n",
       "      <th></th>\n",
       "      <th></th>\n",
       "      <th></th>\n",
       "      <th></th>\n",
       "      <th></th>\n",
       "      <th></th>\n",
       "      <th></th>\n",
       "      <th></th>\n",
       "    </tr>\n",
       "  </thead>\n",
       "  <tbody>\n",
       "    <tr>\n",
       "      <th>70607</th>\n",
       "      <td>2560</td>\n",
       "      <td>1</td>\n",
       "      <td>1</td>\n",
       "      <td>0</td>\n",
       "      <td>1</td>\n",
       "      <td>0</td>\n",
       "      <td>15890</td>\n",
       "      <td>871.075952</td>\n",
       "      <td>188</td>\n",
       "      <td>371</td>\n",
       "      <td>1</td>\n",
       "      <td>1</td>\n",
       "      <td>6000</td>\n",
       "    </tr>\n",
       "    <tr>\n",
       "      <th>58412</th>\n",
       "      <td>1379</td>\n",
       "      <td>1</td>\n",
       "      <td>1</td>\n",
       "      <td>0</td>\n",
       "      <td>0</td>\n",
       "      <td>1</td>\n",
       "      <td>6582</td>\n",
       "      <td>896.718887</td>\n",
       "      <td>17</td>\n",
       "      <td>373</td>\n",
       "      <td>0</td>\n",
       "      <td>1</td>\n",
       "      <td>6000</td>\n",
       "    </tr>\n",
       "    <tr>\n",
       "      <th>88755</th>\n",
       "      <td>2560</td>\n",
       "      <td>0</td>\n",
       "      <td>0</td>\n",
       "      <td>0</td>\n",
       "      <td>0</td>\n",
       "      <td>0</td>\n",
       "      <td>7869</td>\n",
       "      <td>572.900354</td>\n",
       "      <td>17</td>\n",
       "      <td>373</td>\n",
       "      <td>1</td>\n",
       "      <td>1</td>\n",
       "      <td>6000</td>\n",
       "    </tr>\n",
       "    <tr>\n",
       "      <th>97271</th>\n",
       "      <td>2560</td>\n",
       "      <td>1</td>\n",
       "      <td>1</td>\n",
       "      <td>0</td>\n",
       "      <td>0</td>\n",
       "      <td>0</td>\n",
       "      <td>150</td>\n",
       "      <td>0.000000</td>\n",
       "      <td>247</td>\n",
       "      <td>349</td>\n",
       "      <td>1</td>\n",
       "      <td>2</td>\n",
       "      <td>6000</td>\n",
       "    </tr>\n",
       "    <tr>\n",
       "      <th>70478</th>\n",
       "      <td>2231</td>\n",
       "      <td>1</td>\n",
       "      <td>1</td>\n",
       "      <td>0</td>\n",
       "      <td>0</td>\n",
       "      <td>0</td>\n",
       "      <td>8362</td>\n",
       "      <td>0.000000</td>\n",
       "      <td>17</td>\n",
       "      <td>12</td>\n",
       "      <td>1</td>\n",
       "      <td>2</td>\n",
       "      <td>3750</td>\n",
       "    </tr>\n",
       "  </tbody>\n",
       "</table>\n",
       "</div>"
      ],
      "text/plain": [
       "       Loan_ID  Gender  Married  Dependents  Education  Self_Employed  \\\n",
       "ID                                                                      \n",
       "70607     2560       1        1           0          1              0   \n",
       "58412     1379       1        1           0          0              1   \n",
       "88755     2560       0        0           0          0              0   \n",
       "97271     2560       1        1           0          0              0   \n",
       "70478     2231       1        1           0          0              0   \n",
       "\n",
       "       ApplicantIncome  CoapplicantIncome  LoanAmount  Loan_Amount_Term  \\\n",
       "ID                                                                        \n",
       "70607            15890         871.075952         188               371   \n",
       "58412             6582         896.718887          17               373   \n",
       "88755             7869         572.900354          17               373   \n",
       "97271              150           0.000000         247               349   \n",
       "70478             8362           0.000000          17                12   \n",
       "\n",
       "       Credit_History  Property_Area  Total_Income  \n",
       "ID                                                  \n",
       "70607               1              1          6000  \n",
       "58412               0              1          6000  \n",
       "88755               1              1          6000  \n",
       "97271               1              2          6000  \n",
       "70478               1              2          3750  "
      ]
     },
     "execution_count": 25,
     "metadata": {},
     "output_type": "execute_result"
    }
   ],
   "source": [
    "X_test.head()"
   ]
  },
  {
   "cell_type": "code",
   "execution_count": 26,
   "id": "2e7ddb93",
   "metadata": {
    "execution": {
     "iopub.execute_input": "2024-11-09T14:01:50.209562Z",
     "iopub.status.busy": "2024-11-09T14:01:50.208693Z",
     "iopub.status.idle": "2024-11-09T14:01:50.216524Z",
     "shell.execute_reply": "2024-11-09T14:01:50.215372Z"
    },
    "papermill": {
     "duration": 0.021297,
     "end_time": "2024-11-09T14:01:50.218701",
     "exception": false,
     "start_time": "2024-11-09T14:01:50.197404",
     "status": "completed"
    },
    "tags": []
   },
   "outputs": [
    {
     "data": {
      "text/plain": [
       "Index([70607, 58412, 88755, 97271, 70478, 19108, 29374, 28476, 63397, 97950,\n",
       "       ...\n",
       "       21827, 20774, 46675, 19432, 72089, 15578, 87689, 42584, 44709, 75533],\n",
       "      dtype='int64', name='ID', length=2528)"
      ]
     },
     "execution_count": 26,
     "metadata": {},
     "output_type": "execute_result"
    }
   ],
   "source": [
    "X_test.index"
   ]
  },
  {
   "cell_type": "code",
   "execution_count": 27,
   "id": "91ee7948",
   "metadata": {
    "execution": {
     "iopub.execute_input": "2024-11-09T14:01:50.240268Z",
     "iopub.status.busy": "2024-11-09T14:01:50.239837Z",
     "iopub.status.idle": "2024-11-09T14:01:50.300705Z",
     "shell.execute_reply": "2024-11-09T14:01:50.299669Z"
    },
    "papermill": {
     "duration": 0.074491,
     "end_time": "2024-11-09T14:01:50.303193",
     "exception": false,
     "start_time": "2024-11-09T14:01:50.228702",
     "status": "completed"
    },
    "tags": []
   },
   "outputs": [],
   "source": [
    "predictions = best_model.predict(X_test)"
   ]
  },
  {
   "cell_type": "code",
   "execution_count": 28,
   "id": "1dbb4d86",
   "metadata": {
    "execution": {
     "iopub.execute_input": "2024-11-09T14:01:50.325494Z",
     "iopub.status.busy": "2024-11-09T14:01:50.325101Z",
     "iopub.status.idle": "2024-11-09T14:01:50.338173Z",
     "shell.execute_reply": "2024-11-09T14:01:50.336966Z"
    },
    "papermill": {
     "duration": 0.027103,
     "end_time": "2024-11-09T14:01:50.340534",
     "exception": false,
     "start_time": "2024-11-09T14:01:50.313431",
     "status": "completed"
    },
    "tags": []
   },
   "outputs": [
    {
     "name": "stdout",
     "output_type": "stream",
     "text": [
      "Your submission was successfully saved!\n"
     ]
    }
   ],
   "source": [
    "output = pd.DataFrame({\"ID\":X_test.index, \"Loan_Status\":predictions})\n",
    "output.to_csv('submission.csv', index=False)\n",
    "print(\"Your submission was successfully saved!\")"
   ]
  },
  {
   "cell_type": "code",
   "execution_count": null,
   "id": "294c9ff7",
   "metadata": {
    "papermill": {
     "duration": 0.009729,
     "end_time": "2024-11-09T14:01:50.360524",
     "exception": false,
     "start_time": "2024-11-09T14:01:50.350795",
     "status": "completed"
    },
    "tags": []
   },
   "outputs": [],
   "source": []
  }
 ],
 "metadata": {
  "kaggle": {
   "accelerator": "none",
   "dataSources": [
    {
     "databundleVersionId": 10001964,
     "sourceId": 87266,
     "sourceType": "competition"
    }
   ],
   "dockerImageVersionId": 30786,
   "isGpuEnabled": false,
   "isInternetEnabled": true,
   "language": "python",
   "sourceType": "notebook"
  },
  "kernelspec": {
   "display_name": "Python 3",
   "language": "python",
   "name": "python3"
  },
  "language_info": {
   "codemirror_mode": {
    "name": "ipython",
    "version": 3
   },
   "file_extension": ".py",
   "mimetype": "text/x-python",
   "name": "python",
   "nbconvert_exporter": "python",
   "pygments_lexer": "ipython3",
   "version": "3.10.14"
  },
  "papermill": {
   "default_parameters": {},
   "duration": 47.096621,
   "end_time": "2024-11-09T14:01:52.991397",
   "environment_variables": {},
   "exception": null,
   "input_path": "__notebook__.ipynb",
   "output_path": "__notebook__.ipynb",
   "parameters": {},
   "start_time": "2024-11-09T14:01:05.894776",
   "version": "2.6.0"
  }
 },
 "nbformat": 4,
 "nbformat_minor": 5
}
